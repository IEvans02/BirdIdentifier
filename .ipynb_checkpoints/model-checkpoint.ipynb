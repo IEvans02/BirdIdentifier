{
 "cells": [
  {
   "cell_type": "code",
   "execution_count": 1,
   "id": "543f26db",
   "metadata": {},
   "outputs": [],
   "source": [
    "import os\n",
    "import random\n",
    "import shutil"
   ]
  },
  {
   "cell_type": "code",
   "execution_count": null,
   "id": "d4f124ee",
   "metadata": {},
   "outputs": [],
   "source": [
    "import tensorflow as tf"
   ]
  },
  {
   "cell_type": "code",
   "execution_count": null,
   "id": "2ef9bfb8",
   "metadata": {},
   "outputs": [],
   "source": [
    "from tensorflow import keras\n",
    "from keras import Sequential\n",
    "from keras.layers import Dense, Conv2D, MaxPooling2D, Flatten\n",
    "from keras.preprocessing.image import ImageDataGenerator"
   ]
  },
  {
   "cell_type": "code",
   "execution_count": 1,
   "id": "f8872e5c",
   "metadata": {},
   "outputs": [
    {
     "ename": "NameError",
     "evalue": "name 'os' is not defined",
     "output_type": "error",
     "traceback": [
      "\u001b[0;31m---------------------------------------------------------------------------\u001b[0m",
      "\u001b[0;31mNameError\u001b[0m                                 Traceback (most recent call last)",
      "Cell \u001b[0;32mIn[1], line 3\u001b[0m\n\u001b[1;32m      1\u001b[0m \u001b[38;5;66;03m# Define the paths\u001b[39;00m\n\u001b[1;32m      2\u001b[0m base_dir \u001b[38;5;241m=\u001b[39m \u001b[38;5;124m\"\u001b[39m\u001b[38;5;124m/Users/ioanevans/Documents/BirdsData\u001b[39m\u001b[38;5;124m\"\u001b[39m\n\u001b[0;32m----> 3\u001b[0m archive_dir \u001b[38;5;241m=\u001b[39m \u001b[43mos\u001b[49m\u001b[38;5;241m.\u001b[39mpath\u001b[38;5;241m.\u001b[39mjoin(base_dir, \u001b[38;5;124m\"\u001b[39m\u001b[38;5;124marchive\u001b[39m\u001b[38;5;124m\"\u001b[39m)\n\u001b[1;32m      4\u001b[0m train_dir \u001b[38;5;241m=\u001b[39m os\u001b[38;5;241m.\u001b[39mpath\u001b[38;5;241m.\u001b[39mjoin(base_dir, \u001b[38;5;124m\"\u001b[39m\u001b[38;5;124mtrain\u001b[39m\u001b[38;5;124m\"\u001b[39m)\n\u001b[1;32m      5\u001b[0m validation_dir \u001b[38;5;241m=\u001b[39m os\u001b[38;5;241m.\u001b[39mpath\u001b[38;5;241m.\u001b[39mjoin(base_dir, \u001b[38;5;124m\"\u001b[39m\u001b[38;5;124mvalidation\u001b[39m\u001b[38;5;124m\"\u001b[39m)\n",
      "\u001b[0;31mNameError\u001b[0m: name 'os' is not defined"
     ]
    }
   ],
   "source": [
    "# Define the paths\n",
    "base_dir = \"/Users/ioanevans/Documents/BirdsData\"\n",
    "archive_dir = os.path.join(base_dir, \"archive\")\n",
    "train_dir = os.path.join(base_dir, \"train\")\n",
    "validation_dir = os.path.join(base_dir, \"validation\")\n",
    "\n",
    "# Create the train and validation folders\n",
    "os.makedirs(train_dir, exist_ok=True)\n",
    "os.makedirs(validation_dir, exist_ok=True)\n",
    "\n",
    "# List all bird categories\n",
    "bird_categories = [\"Blackbird\", \"Bluetit\", \"Carrion_Crow\", \"Chaffinch\", \"Coal_Tit\", \"Collared_Dove\",\n",
    "                   \"Dunnock\", \"Feral_Pigeon\", \"Goldfinch\", \"Great_Tit\", \"Greenfinch\", \"House_Sparrow\",\n",
    "                   \"Jackdaw\", \"Long_Tailed_Tit\", \"Magpie\", \"Robin\", \"Song_Thrush\", \"Starling\", \"Wood_Pigeon\", \"Wren\"]"
   ]
  },
  {
   "cell_type": "code",
   "execution_count": 2,
   "id": "fa1cbc35",
   "metadata": {},
   "outputs": [
    {
     "ename": "NameError",
     "evalue": "name 'bird_categories' is not defined",
     "output_type": "error",
     "traceback": [
      "\u001b[0;31m---------------------------------------------------------------------------\u001b[0m",
      "\u001b[0;31mNameError\u001b[0m                                 Traceback (most recent call last)",
      "Cell \u001b[0;32mIn[2], line 2\u001b[0m\n\u001b[1;32m      1\u001b[0m \u001b[38;5;66;03m# Move 80% of images to train folders\u001b[39;00m\n\u001b[0;32m----> 2\u001b[0m \u001b[38;5;28;01mfor\u001b[39;00m bird_name \u001b[38;5;129;01min\u001b[39;00m \u001b[43mbird_categories\u001b[49m:\n\u001b[1;32m      3\u001b[0m     bird_archive_dir_with_bg \u001b[38;5;241m=\u001b[39m os\u001b[38;5;241m.\u001b[39mpath\u001b[38;5;241m.\u001b[39mjoin(archive_dir, \u001b[38;5;124m\"\u001b[39m\u001b[38;5;124mwithBackground\u001b[39m\u001b[38;5;124m\"\u001b[39m, bird_name)\n\u001b[1;32m      4\u001b[0m     bird_train_dir \u001b[38;5;241m=\u001b[39m os\u001b[38;5;241m.\u001b[39mpath\u001b[38;5;241m.\u001b[39mjoin(train_dir, bird_name)\n",
      "\u001b[0;31mNameError\u001b[0m: name 'bird_categories' is not defined"
     ]
    }
   ],
   "source": [
    "# Move 80% of images to train folders\n",
    "for bird_name in bird_categories:\n",
    "    bird_archive_dir_with_bg = os.path.join(archive_dir, \"withBackground\", bird_name)\n",
    "    bird_train_dir = os.path.join(train_dir, bird_name)\n",
    "    os.makedirs(bird_train_dir, exist_ok=True)\n",
    "    \n",
    "    bird_images = os.listdir(bird_archive_dir_with_bg)\n",
    "    random.shuffle(bird_images)\n",
    "    num_train_images = int(len(bird_images) * 0.8)\n",
    "    \n",
    "    for img in bird_images[:num_train_images]:\n",
    "        src = os.path.join(bird_archive_dir_with_bg, img)\n",
    "        dst = os.path.join(bird_train_dir, img)\n",
    "        shutil.copyfile(src, dst)\n",
    "\n",
    "# Move the remaining 20% of images to validation folders\n",
    "for bird_name in bird_categories:\n",
    "    bird_archive_dir_with_bg = os.path.join(archive_dir, \"withBackground\", bird_name)\n",
    "    bird_validation_dir = os.path.join(validation_dir, bird_name)\n",
    "    os.makedirs(bird_validation_dir, exist_ok=True)\n",
    "    \n",
    "    bird_images = os.listdir(bird_archive_dir_with_bg)\n",
    "    random.shuffle(bird_images)\n",
    "    num_train_images = int(len(bird_images) * 0.8)\n",
    "    \n",
    "    for img in bird_images[num_train_images:]:\n",
    "        src = os.path.join(bird_archive_dir_with_bg, img)\n",
    "        dst = os.path.join(bird_validation_dir, img)\n",
    "        shutil.copyfile(src, dst)"
   ]
  },
  {
   "cell_type": "code",
   "execution_count": 3,
   "id": "2db8dc47",
   "metadata": {},
   "outputs": [
    {
     "ename": "NameError",
     "evalue": "name 'ImageDataGenerator' is not defined",
     "output_type": "error",
     "traceback": [
      "\u001b[0;31m---------------------------------------------------------------------------\u001b[0m",
      "\u001b[0;31mNameError\u001b[0m                                 Traceback (most recent call last)",
      "Cell \u001b[0;32mIn[3], line 7\u001b[0m\n\u001b[1;32m      4\u001b[0m batch_size \u001b[38;5;241m=\u001b[39m \u001b[38;5;241m32\u001b[39m\n\u001b[1;32m      6\u001b[0m \u001b[38;5;66;03m# Data augmentation for training data\u001b[39;00m\n\u001b[0;32m----> 7\u001b[0m train_datagen \u001b[38;5;241m=\u001b[39m \u001b[43mImageDataGenerator\u001b[49m(\n\u001b[1;32m      8\u001b[0m     rescale\u001b[38;5;241m=\u001b[39m\u001b[38;5;241m1.0\u001b[39m\u001b[38;5;241m/\u001b[39m\u001b[38;5;241m255.0\u001b[39m,\n\u001b[1;32m      9\u001b[0m     rotation_range\u001b[38;5;241m=\u001b[39m\u001b[38;5;241m20\u001b[39m,\n\u001b[1;32m     10\u001b[0m     zoom_range\u001b[38;5;241m=\u001b[39m\u001b[38;5;241m0.2\u001b[39m,\n\u001b[1;32m     11\u001b[0m     horizontal_flip\u001b[38;5;241m=\u001b[39m\u001b[38;5;28;01mTrue\u001b[39;00m\n\u001b[1;32m     12\u001b[0m )\n\u001b[1;32m     14\u001b[0m \u001b[38;5;66;03m# Data augmentation for validation data (only rescaling)\u001b[39;00m\n\u001b[1;32m     15\u001b[0m val_datagen \u001b[38;5;241m=\u001b[39m ImageDataGenerator(rescale\u001b[38;5;241m=\u001b[39m\u001b[38;5;241m1.0\u001b[39m\u001b[38;5;241m/\u001b[39m\u001b[38;5;241m255.0\u001b[39m)\n",
      "\u001b[0;31mNameError\u001b[0m: name 'ImageDataGenerator' is not defined"
     ]
    }
   ],
   "source": [
    "# Define data augmentation parameters\n",
    "image_height = 150\n",
    "image_width = 150\n",
    "batch_size = 32\n",
    "\n",
    "# Data augmentation for training data\n",
    "train_datagen = ImageDataGenerator(\n",
    "    rescale=1.0/255.0,\n",
    "    rotation_range=20,\n",
    "    zoom_range=0.2,\n",
    "    horizontal_flip=True\n",
    ")\n",
    "\n",
    "# Data augmentation for validation data (only rescaling)\n",
    "val_datagen = ImageDataGenerator(rescale=1.0/255.0)\n",
    "\n",
    "# Load training data from the train directory\n",
    "train_data_dir = \"/Users/ioanevans/Documents/BirdsData/train\"\n",
    "train_generator = train_datagen.flow_from_directory(\n",
    "    train_data_dir,\n",
    "    target_size=(image_height, image_width),\n",
    "    batch_size=batch_size,\n",
    "    class_mode='categorical',    # For multi-class classification\n",
    ")"
   ]
  },
  {
   "cell_type": "code",
   "execution_count": null,
   "id": "7a68767f",
   "metadata": {},
   "outputs": [],
   "source": [
    "# Load validation data from the validation directory\n",
    "validation_data_dir = \"/Users/ioanevans/Documents/BirdsData/validation\"\n",
    "val_generator = val_datagen.flow_from_directory(\n",
    "    validation_data_dir,\n",
    "    target_size=(image_height, image_width),\n",
    "    batch_size=batch_size,\n",
    "    class_mode='categorical', \n",
    ") "
   ]
  },
  {
   "cell_type": "code",
   "execution_count": null,
   "id": "5dfbb32f",
   "metadata": {},
   "outputs": [],
   "source": [
    "# Step 4: Define the Neural Network Model\n",
    "model = Sequential()\n",
    "model.add(Conv2D(32, (3, 3), activation='relu', input_shape=(150, 150, 3)))\n",
    "model.add(MaxPooling2D((2, 2)))\n",
    "model.add(Conv2D(64, (3, 3), activation='relu'))\n",
    "model.add(MaxPooling2D((2, 2)))\n",
    "model.add(Conv2D(128, (3, 3), activation='relu'))\n",
    "model.add(MaxPooling2D((2, 2)))\n",
    "model.add(Flatten())\n",
    "model.add(Dense(128, activation='relu'))\n",
    "model.add(Dense(20, activation='softmax'))\n"
   ]
  },
  {
   "cell_type": "code",
   "execution_count": null,
   "id": "4098b3ec",
   "metadata": {},
   "outputs": [],
   "source": [
    "# Step 5: Compile the Model\n",
    "model.compile(optimizer='adam',\n",
    "              loss='categorical_crossentropy',\n",
    "              metrics=['accuracy'])"
   ]
  },
  {
   "cell_type": "code",
   "execution_count": null,
   "id": "8fd6a7e2",
   "metadata": {},
   "outputs": [],
   "source": [
    "# Step 6: Training \n",
    "# Number of training steps per epoch (total number of training samples / batch size)\n",
    "steps_per_epoch = len(train_generator)\n",
    "\n",
    "# Number of validation steps (total number of validation samples / batch size)\n",
    "validation_steps = len(val_generator)\n",
    "\n",
    "# Train the model using the train_generator for training data and val_generator for validation data\n",
    "history = model.fit(train_generator, epochs=10, steps_per_epoch=steps_per_epoch,\n",
    "                    validation_data=val_generator, validation_steps=validation_steps)\n",
    "\n",
    "#Step 7 - Validation\n",
    "validation_loss, validation_accuracy = model.evaluate(val_generator)\n",
    "print(\"Accuracy:\", validation_accuracy)"
   ]
  },
  {
   "cell_type": "code",
   "execution_count": null,
   "id": "978566cd",
   "metadata": {},
   "outputs": [],
   "source": []
  },
  {
   "cell_type": "code",
   "execution_count": null,
   "id": "2e5b7b4d",
   "metadata": {},
   "outputs": [],
   "source": []
  }
 ],
 "metadata": {
  "kernelspec": {
   "display_name": "Python 3 (ipykernel)",
   "language": "python",
   "name": "python3"
  },
  "language_info": {
   "codemirror_mode": {
    "name": "ipython",
    "version": 3
   },
   "file_extension": ".py",
   "mimetype": "text/x-python",
   "name": "python",
   "nbconvert_exporter": "python",
   "pygments_lexer": "ipython3",
   "version": "3.9.16"
  }
 },
 "nbformat": 4,
 "nbformat_minor": 5
}
